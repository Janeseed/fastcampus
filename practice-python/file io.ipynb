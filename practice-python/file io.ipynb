{
 "cells": [
  {
   "cell_type": "code",
   "execution_count": 1,
   "metadata": {
    "collapsed": true
   },
   "outputs": [],
   "source": [
    "## 파일을 열면 꼭 닫는 작업을 먼저 적어놓고\n",
    "## 그 사이에 사용할 process를 적는것이 좋음\n",
    "f = open('NewFile.txt', 'w')\n",
    "f.close()"
   ]
  },
  {
   "cell_type": "code",
   "execution_count": 4,
   "metadata": {
    "collapsed": true
   },
   "outputs": [],
   "source": [
    "f = open('NewFile.txt', 'a')\n",
    "for i in range(1,11):\n",
    "    text = \"line %2d. \\n\" % i ## backslash는 \\랑 같은 것으로 씅미\n",
    "    f.write(text)\n",
    "f.close()"
   ]
  },
  {
   "cell_type": "code",
   "execution_count": 5,
   "metadata": {},
   "outputs": [
    {
     "name": "stdout",
     "output_type": "stream",
     "text": [
      "NewFile.txtNewFile.txtNewFile.txtNewFile.txtNewFile.txtNewFile.txtNewFile.txtNewFile.txtNewFile.txtNewFile.txtline  1. |nline  2. |nline  3. |nline  4. |nline  5. |nline  6. |nline  7. |nline  8. |nline  9. |nline 10. |nline  1. \n",
      "\n"
     ]
    }
   ],
   "source": [
    "f = open(\"NewFile.txt\", \"r\")\n",
    "text = f.readline()\n",
    "print(text)##위에 변수를 지정해 주지 않고 그냥 print(f.readline()) 이렇게 써주는 거랑 같음\n",
    "f.close()\n",
    "\n",
    "#readline은 첫 번째 줄만 읽음"
   ]
  },
  {
   "cell_type": "code",
   "execution_count": 6,
   "metadata": {},
   "outputs": [
    {
     "name": "stdout",
     "output_type": "stream",
     "text": [
      "NewFile.txtNewFile.txtNewFile.txtNewFile.txtNewFile.txtNewFile.txtNewFile.txtNewFile.txtNewFile.txtNewFile.txtline  1. |nline  2. |nline  3. |nline  4. |nline  5. |nline  6. |nline  7. |nline  8. |nline  9. |nline 10. |nline  1. \n",
      "\n",
      "line  2. \n",
      "\n",
      "line  3. \n",
      "\n",
      "line  4. \n",
      "\n",
      "line  5. \n",
      "\n",
      "line  6. \n",
      "\n",
      "line  7. \n",
      "\n",
      "line  8. \n",
      "\n",
      "line  9. \n",
      "\n",
      "line 10. \n",
      "\n"
     ]
    }
   ],
   "source": [
    "## 파일 전체를 읽고 싶을때\n",
    "\n",
    "\n",
    "f = open(\"NewFile.txt\", 'r')\n",
    "while True:\n",
    "    text= f.readline()\n",
    "    if not text:\n",
    "        break\n",
    "    print(text)\n",
    "f.close()"
   ]
  },
  {
   "cell_type": "code",
   "execution_count": 7,
   "metadata": {},
   "outputs": [
    {
     "name": "stdout",
     "output_type": "stream",
     "text": [
      "NewFile.txtNewFile.txtNewFile.txtNewFile.txtNewFile.txtNewFile.txtNewFile.txtNewFile.txtNewFile.txtNewFile.txtline  1. |nline  2. |nline  3. |nline  4. |nline  5. |nline  6. |nline  7. |nline  8. |nline  9. |nline 10. |nline  1. \n",
      "\n",
      "line  2. \n",
      "\n",
      "line  3. \n",
      "\n",
      "line  4. \n",
      "\n",
      "line  5. \n",
      "\n",
      "line  6. \n",
      "\n",
      "line  7. \n",
      "\n",
      "line  8. \n",
      "\n",
      "line  9. \n",
      "\n",
      "line 10. \n",
      "\n"
     ]
    },
    {
     "data": {
      "text/plain": [
       "<function TextIOWrapper.close>"
      ]
     },
     "execution_count": 7,
     "metadata": {},
     "output_type": "execute_result"
    }
   ],
   "source": [
    "## 원하는 경로에 파일을 생성하고 싶으면 상대 주소를 사용해서 작성하면 됌\n",
    "#f = open(\"../../Newfile.txt\", 'w') 이런식으로 하면 됌\n",
    "\n",
    "\n",
    "f = open('NewFile.txt', \"r\")\n",
    "texts = f.readlines()\n",
    "for text in texts:\n",
    "    print(text)  ##readlines를 하면 list로 한 줄로 들어오는데 그걸 한 줄 한 줄\n",
    "    #원래 파일처럼 표현하려고 이 과정을 거치는 것.\n",
    "f.close"
   ]
  },
  {
   "cell_type": "code",
   "execution_count": 9,
   "metadata": {
    "collapsed": true
   },
   "outputs": [],
   "source": [
    "f = open(\"NewFile.txt\", 'a')\n",
    "for i in range(11, 21):\n",
    "    text = \"I don't know why I'm so tired today: %2d \\n\" % i\n",
    "    f.write(text)\n",
    "f.close()"
   ]
  },
  {
   "cell_type": "code",
   "execution_count": 14,
   "metadata": {},
   "outputs": [
    {
     "ename": "UnsupportedOperation",
     "evalue": "not readable",
     "output_type": "error",
     "traceback": [
      "\u001b[1;31m---------------------------------------------------------------------------\u001b[0m",
      "\u001b[1;31mUnsupportedOperation\u001b[0m                      Traceback (most recent call last)",
      "\u001b[1;32m<ipython-input-14-f23a2b458d4c>\u001b[0m in \u001b[0;36m<module>\u001b[1;34m()\u001b[0m\n\u001b[0;32m      1\u001b[0m \u001b[1;32mwith\u001b[0m \u001b[0mopen\u001b[0m\u001b[1;33m(\u001b[0m\u001b[1;34m\"NewFile.txt\"\u001b[0m\u001b[1;33m,\u001b[0m \u001b[1;34m'a'\u001b[0m\u001b[1;33m)\u001b[0m \u001b[1;32mas\u001b[0m \u001b[0mf\u001b[0m\u001b[1;33m:\u001b[0m\u001b[1;33m\u001b[0m\u001b[0m\n\u001b[1;32m----> 2\u001b[1;33m     \u001b[0mf\u001b[0m\u001b[1;33m.\u001b[0m\u001b[0mreadline\u001b[0m\u001b[1;33m(\u001b[0m\u001b[1;33m)\u001b[0m\u001b[1;33m\u001b[0m\u001b[0m\n\u001b[0m",
      "\u001b[1;31mUnsupportedOperation\u001b[0m: not readable"
     ]
    }
   ],
   "source": [
    "with open(\"NewFile.txt\", 'a') as f:\n",
    "    f.readline()"
   ]
  },
  {
   "cell_type": "code",
   "execution_count": 15,
   "metadata": {},
   "outputs": [
    {
     "name": "stdout",
     "output_type": "stream",
     "text": [
      "?\"패스트캠퍼스\"\n"
     ]
    },
    {
     "ename": "ValueError",
     "evalue": "invalid literal for int() with base 10: '\"패스트캠퍼스\"'",
     "output_type": "error",
     "traceback": [
      "\u001b[1;31m---------------------------------------------------------------------------\u001b[0m",
      "\u001b[1;31mValueError\u001b[0m                                Traceback (most recent call last)",
      "\u001b[1;32m<ipython-input-15-9b716701632f>\u001b[0m in \u001b[0;36m<module>\u001b[1;34m()\u001b[0m\n\u001b[1;32m----> 1\u001b[1;33m \u001b[0mtext\u001b[0m \u001b[1;33m=\u001b[0m \u001b[0mint\u001b[0m\u001b[1;33m(\u001b[0m\u001b[0minput\u001b[0m\u001b[1;33m(\u001b[0m\u001b[1;34m\"?\"\u001b[0m\u001b[1;33m)\u001b[0m\u001b[1;33m)\u001b[0m\u001b[1;33m\u001b[0m\u001b[0m\n\u001b[0m",
      "\u001b[1;31mValueError\u001b[0m: invalid literal for int() with base 10: '\"패스트캠퍼스\"'"
     ]
    }
   ],
   "source": [
    "text = int(input(\"?\"))\n"
   ]
  },
  {
   "cell_type": "code",
   "execution_count": 16,
   "metadata": {
    "collapsed": true
   },
   "outputs": [],
   "source": [
    "try:\n",
    "    pass\n",
    "except:\n",
    "    pass\n",
    "## pass를 붙이는 습관을 들이면 함수나 등등을 만들때 일단 껍데기 모양 혹은 조직도를 만들어 놓을 수 있어서 좋음."
   ]
  },
  {
   "cell_type": "code",
   "execution_count": 19,
   "metadata": {},
   "outputs": [
    {
     "name": "stdout",
     "output_type": "stream",
     "text": [
      "type some number: glkajf\n",
      "I said type the NUMBER!!!!!\n",
      "invalid literal for int() with base 10: 'glkajf'\n"
     ]
    }
   ],
   "source": [
    "try:\n",
    "     input_=int(input(\"type some number: \"))\n",
    "except ValueError as e:\n",
    "    print(\"I said type the NUMBER!!!!!\")\n",
    "    print(e) ##이렇게 하면 에러 메세지를 프린트 할 수 있음."
   ]
  },
  {
   "cell_type": "code",
   "execution_count": 23,
   "metadata": {},
   "outputs": [
    {
     "name": "stdout",
     "output_type": "stream",
     "text": [
      "[Errno 2] No such file or directory: 'error_example.txt'\n"
     ]
    }
   ],
   "source": [
    "## file not found error\n",
    "# try except 와 같은 경우는 사용자와 직접 대화할때 주로 사용한다. 사용자에게 경고를 줘서 내가 원하는대로 따라오게 하기 위해\n",
    "\n",
    "try:\n",
    "    f = open(\"error_example.txt\", 'r')\n",
    "except FileNotFoundError as e:\n",
    "    print(e)\n",
    "else:\n",
    "    text = f.read()\n",
    "    f.close()"
   ]
  },
  {
   "cell_type": "code",
   "execution_count": 21,
   "metadata": {},
   "outputs": [
    {
     "ename": "FileNotFoundError",
     "evalue": "[Errno 2] No such file or directory: 'error_example.txt'",
     "output_type": "error",
     "traceback": [
      "\u001b[1;31m---------------------------------------------------------------------------\u001b[0m",
      "\u001b[1;31mFileNotFoundError\u001b[0m                         Traceback (most recent call last)",
      "\u001b[1;32m<ipython-input-21-5344901b35e1>\u001b[0m in \u001b[0;36m<module>\u001b[1;34m()\u001b[0m\n\u001b[1;32m----> 1\u001b[1;33m \u001b[0mf\u001b[0m \u001b[1;33m=\u001b[0m \u001b[0mopen\u001b[0m\u001b[1;33m(\u001b[0m\u001b[1;34m\"error_example.txt\"\u001b[0m\u001b[1;33m,\u001b[0m \u001b[1;34m'r'\u001b[0m\u001b[1;33m)\u001b[0m\u001b[1;33m\u001b[0m\u001b[0m\n\u001b[0m\u001b[0;32m      2\u001b[0m \u001b[0mf\u001b[0m\u001b[1;33m.\u001b[0m\u001b[0mclose\u001b[0m\u001b[1;33m(\u001b[0m\u001b[1;33m)\u001b[0m\u001b[1;33m\u001b[0m\u001b[0m\n",
      "\u001b[1;31mFileNotFoundError\u001b[0m: [Errno 2] No such file or directory: 'error_example.txt'"
     ]
    }
   ],
   "source": [
    "#위에 에러 이름을 잘 모른다고 가정했을때 에러이름을 알려면 지금 처럼 에러를 일부러 내서 에러이름을 알아내면 된다.\n",
    "f = open(\"error_example.txt\", 'r')\n",
    "f.close()"
   ]
  },
  {
   "cell_type": "code",
   "execution_count": null,
   "metadata": {
    "collapsed": true
   },
   "outputs": [],
   "source": []
  }
 ],
 "metadata": {
  "kernelspec": {
   "display_name": "Python 3",
   "language": "python",
   "name": "python3"
  },
  "language_info": {
   "codemirror_mode": {
    "name": "ipython",
    "version": 3
   },
   "file_extension": ".py",
   "mimetype": "text/x-python",
   "name": "python",
   "nbconvert_exporter": "python",
   "pygments_lexer": "ipython3",
   "version": "3.6.1"
  }
 },
 "nbformat": 4,
 "nbformat_minor": 2
}
