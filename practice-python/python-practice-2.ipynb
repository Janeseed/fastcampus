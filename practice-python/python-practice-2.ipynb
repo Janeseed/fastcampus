{
 "cells": [
  {
   "cell_type": "code",
   "execution_count": 3,
   "metadata": {},
   "outputs": [
    {
     "name": "stdout",
     "output_type": "stream",
     "text": [
      "{'Ung': 100, 'Sue': 30, 'Hoon': 60, 'Jane': 99}\n"
     ]
    }
   ],
   "source": [
    "# Dictionary Practice\n",
    "dict1 = {}\n",
    "dict1 = {'Ung':100, 'Sue':30, 'Hoon':60}\n",
    "dict1['Jane'] = 99\n",
    "print(dict1)"
   ]
  },
  {
   "cell_type": "code",
   "execution_count": 6,
   "metadata": {},
   "outputs": [
    {
     "name": "stdout",
     "output_type": "stream",
     "text": [
      "dict_items([('Ung', 100), ('Sue', 30), ('Hoon', 60), ('Jane', 99)])\n"
     ]
    }
   ],
   "source": [
    "print(dict1.items())"
   ]
  },
  {
   "cell_type": "code",
   "execution_count": 7,
   "metadata": {},
   "outputs": [
    {
     "name": "stdout",
     "output_type": "stream",
     "text": [
      "dict_keys(['Ung', 'Sue', 'Hoon', 'Jane'])\n"
     ]
    }
   ],
   "source": [
    "print(dict1.keys())"
   ]
  },
  {
   "cell_type": "code",
   "execution_count": 8,
   "metadata": {},
   "outputs": [
    {
     "name": "stdout",
     "output_type": "stream",
     "text": [
      "dict_values([100, 30, 60, 99])\n"
     ]
    }
   ],
   "source": [
    "print(dict1.values())"
   ]
  },
  {
   "cell_type": "code",
   "execution_count": 9,
   "metadata": {},
   "outputs": [
    {
     "name": "stdout",
     "output_type": "stream",
     "text": [
      "99\n"
     ]
    }
   ],
   "source": [
    "life_scores = dict1\n",
    "print(life_scores['Jane'])"
   ]
  },
  {
   "cell_type": "code",
   "execution_count": 13,
   "metadata": {},
   "outputs": [
    {
     "data": {
      "text/plain": [
       "{'Hoon': 60, 'Jane': 99, 'Sue': 30, 'Ung': 100, 'total': 289}"
      ]
     },
     "execution_count": 13,
     "metadata": {},
     "output_type": "execute_result"
    }
   ],
   "source": [
    "life_scores['total'] = int(life_scores['Jane'] + life_scores['Ung'] + life_scores['Hoon'] + life_scores['Sue'])\n",
    "life_scores"
   ]
  },
  {
   "cell_type": "code",
   "execution_count": 14,
   "metadata": {},
   "outputs": [
    {
     "data": {
      "text/plain": [
       "{'history': 70, 'korean': 100, 'math': 97, 'science': 89}"
      ]
     },
     "execution_count": 14,
     "metadata": {},
     "output_type": "execute_result"
    }
   ],
   "source": [
    "# 일반적인 경우 Dictionary을 표현할 때는 행을 나눠서 입력하는 경우가 많다. 헷갈리지 않기 위해.\n",
    "## 이런 경우 git에서 한 줄이 바뀔때마다 그 줄이 바뀌었다고 인식하기 때문에 처음에 Dictionary를 선언할 때 마지막에 ','을 붙여주는 것이 좋다.\n",
    "dict2 = {\n",
    "    'korean': 100,\n",
    "    'math': 97,\n",
    "    'science': 89,\n",
    "    'history': 70, ##이런식으로 마지막에 ','를 넣어줘야 함.\n",
    "}\n",
    "dict2"
   ]
  },
  {
   "cell_type": "code",
   "execution_count": 15,
   "metadata": {},
   "outputs": [
    {
     "data": {
      "text/plain": [
       "{'korean': 100, 'math': 97, 'science': 89}"
      ]
     },
     "execution_count": 15,
     "metadata": {},
     "output_type": "execute_result"
    }
   ],
   "source": [
    "del dict2['history']\n",
    "dict2"
   ]
  },
  {
   "cell_type": "code",
   "execution_count": 16,
   "metadata": {},
   "outputs": [
    {
     "data": {
      "text/plain": [
       "dict_keys(['korean', 'math', 'science'])"
      ]
     },
     "execution_count": 16,
     "metadata": {},
     "output_type": "execute_result"
    }
   ],
   "source": [
    "dict2.keys()\n",
    "##key를 수정하려면 지우고 변경하는 방법밖에 없음."
   ]
  },
  {
   "cell_type": "code",
   "execution_count": 17,
   "metadata": {},
   "outputs": [
    {
     "data": {
      "text/plain": [
       "dict_values([100, 97, 89])"
      ]
     },
     "execution_count": 17,
     "metadata": {},
     "output_type": "execute_result"
    }
   ],
   "source": [
    "dict2.values()"
   ]
  },
  {
   "cell_type": "code",
   "execution_count": 18,
   "metadata": {},
   "outputs": [
    {
     "data": {
      "text/plain": [
       "dict_items([('korean', 100), ('math', 97), ('science', 89)])"
      ]
     },
     "execution_count": 18,
     "metadata": {},
     "output_type": "execute_result"
    }
   ],
   "source": [
    "dict2.items()\n",
    "##튜플로 뽑아지게 되는데 key와 value로 한 쌍이 정해져 있기 때문에 튜플로 나오게 되는 것."
   ]
  },
  {
   "cell_type": "code",
   "execution_count": 1,
   "metadata": {},
   "outputs": [
    {
     "data": {
      "text/plain": [
       "{'apple', 'pen', 'pineapple'}"
      ]
     },
     "execution_count": 1,
     "metadata": {},
     "output_type": "execute_result"
    }
   ],
   "source": [
    "# SET Practice\n",
    "ppap = {'pen', 'pineapple','apple','pen'}\n",
    "ppap"
   ]
  },
  {
   "cell_type": "code",
   "execution_count": 2,
   "metadata": {},
   "outputs": [
    {
     "data": {
      "text/plain": [
       "True"
      ]
     },
     "execution_count": 2,
     "metadata": {},
     "output_type": "execute_result"
    }
   ],
   "source": [
    "'apple' in ppap"
   ]
  },
  {
   "cell_type": "code",
   "execution_count": 3,
   "metadata": {},
   "outputs": [
    {
     "data": {
      "text/plain": [
       "False"
      ]
     },
     "execution_count": 3,
     "metadata": {},
     "output_type": "execute_result"
    }
   ],
   "source": [
    "'applepen' in ppap"
   ]
  },
  {
   "cell_type": "code",
   "execution_count": 4,
   "metadata": {},
   "outputs": [
    {
     "data": {
      "text/plain": [
       "{'a', 'e', 'i', 'l', 'n', 'p'}"
      ]
     },
     "execution_count": 4,
     "metadata": {},
     "output_type": "execute_result"
    }
   ],
   "source": [
    "pineapple = set('pinapple')\n",
    "pineapple\n",
    "## tuple과는 다르게 set은 중복되는걸 지워줌!!"
   ]
  },
  {
   "cell_type": "code",
   "execution_count": 7,
   "metadata": {},
   "outputs": [
    {
     "name": "stdout",
     "output_type": "stream",
     "text": [
      "{'t', 'p'}\n",
      "{'m', 'a', 'f', 'c', 'u', 'n', 'o', 'p', 'h', 't', 's', 'y'}\n",
      "{'m', 'a', 'f', 'c', 'u', 's'}\n",
      "{'m', 'a', 'f', 'c', 'u', 's', 'y', 'n', 'o', 'h'}\n"
     ]
    }
   ],
   "source": [
    "A = set('fastcampus')\n",
    "B = set('python')\n",
    "print(A&B) # ampersand\n",
    "print(A|B) # pipeline\n",
    "print(A-B)\n",
    "print(A^B) # hypen"
   ]
  },
  {
   "cell_type": "code",
   "execution_count": 8,
   "metadata": {},
   "outputs": [
    {
     "name": "stdout",
     "output_type": "stream",
     "text": [
      "[2, 4, 6, 8, 10, 12, 14, 16, 18]\n",
      "[2, 4, 6, 8, 10, 12, 14, 16, 18]\n"
     ]
    }
   ],
   "source": [
    "# list comprehension practice 1\n",
    "old_list = [1,2,3,4,5,6,7,8,9]\n",
    "double_list = [i*2 for i in old_list]\n",
    "print(double_list)\n",
    "\n",
    "double_list2 = []\n",
    "for i in old_list:\n",
    "    double_list2.append(i*2)\n",
    "print(double_list2)"
   ]
  },
  {
   "cell_type": "code",
   "execution_count": 9,
   "metadata": {},
   "outputs": [
    {
     "data": {
      "text/plain": [
       "[4, 8, 12, 16]"
      ]
     },
     "execution_count": 9,
     "metadata": {},
     "output_type": "execute_result"
    }
   ],
   "source": [
    "# list comprehension practice 2\n",
    "double_only_even = [i*2 for i in old_list if i%2 == 0]\n",
    "double_only_even"
   ]
  },
  {
   "cell_type": "code",
   "execution_count": 11,
   "metadata": {},
   "outputs": [
    {
     "data": {
      "text/plain": [
       "[4, 8, 12, 16]"
      ]
     },
     "execution_count": 11,
     "metadata": {},
     "output_type": "execute_result"
    }
   ],
   "source": [
    "double_list3=[]\n",
    "for i in old_list:\n",
    "    if i%2 == 0:\n",
    "        double_list3.append(i*2)\n",
    "double_list3"
   ]
  },
  {
   "cell_type": "code",
   "execution_count": null,
   "metadata": {
    "collapsed": true
   },
   "outputs": [],
   "source": []
  }
 ],
 "metadata": {
  "kernelspec": {
   "display_name": "Python 3",
   "language": "python",
   "name": "python3"
  },
  "language_info": {
   "codemirror_mode": {
    "name": "ipython",
    "version": 3
   },
   "file_extension": ".py",
   "mimetype": "text/x-python",
   "name": "python",
   "nbconvert_exporter": "python",
   "pygments_lexer": "ipython3",
   "version": "3.6.1"
  }
 },
 "nbformat": 4,
 "nbformat_minor": 2
}
