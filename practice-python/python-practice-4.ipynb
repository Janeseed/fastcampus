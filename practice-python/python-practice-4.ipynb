{
 "cells": [
  {
   "cell_type": "code",
   "execution_count": 31,
   "metadata": {},
   "outputs": [
    {
     "name": "stdout",
     "output_type": "stream",
     "text": [
      "Year want to check: 1600\n",
      "It's leap year.\n"
     ]
    }
   ],
   "source": [
    "# Making Function Practice\n",
    "\n",
    "year = eval(input(\"Year want to check: \"))\n",
    "def leap_year(year):\n",
    "    if year%4 == 0:\n",
    "        if year%100 == 0 and year%400 != 0:\n",
    "            print(\"It's normal year\")\n",
    "            return\n",
    "        print(\"It's leap year.\")\n",
    "leap_year(year)"
   ]
  },
  {
   "cell_type": "code",
   "execution_count": 30,
   "metadata": {},
   "outputs": [
    {
     "name": "stdout",
     "output_type": "stream",
     "text": [
      "Which year?: 1900\n"
     ]
    },
    {
     "data": {
      "text/plain": [
       "False"
      ]
     },
     "execution_count": 30,
     "metadata": {},
     "output_type": "execute_result"
    }
   ],
   "source": [
    "# 강사님이 말해준 답\n",
    "## 윤년에 대한 정의를 구체적으로 해보면 쉽게 할 수 있었음.\n",
    "\n",
    "\n",
    "def is_year(year):\n",
    "    leap = False ## 평년이 더 많기 때문에 초기값을 평년으로 두는 것\n",
    "    if year %4 == 0 and (year %100 != 0 or year % 400 == 0):\n",
    "        leap = True\n",
    "    return leap\n",
    "year = int(input(\"Which year?: \"))\n",
    "is_year(year)"
   ]
  },
  {
   "cell_type": "code",
   "execution_count": null,
   "metadata": {},
   "outputs": [],
   "source": [
    "# Recursive function practice\n",
    "\n",
    "\n",
    "def recurse_beast(a):\n",
    "    if a == 0:\n",
    "        print(\"recurse compeleted!\")\n",
    "    else:\n",
    "        print(\"Fushion! (%3d times left).\" % (a-1))\n",
    "        recurse_beast(a-1)\n",
    "        \n",
    "times = int(input(\"How many times do you want to recurse the beast? \"))    \n",
    "recurse_beast(times)"
   ]
  },
  {
   "cell_type": "code",
   "execution_count": null,
   "metadata": {
    "collapsed": true
   },
   "outputs": [],
   "source": []
  },
  {
   "cell_type": "code",
   "execution_count": null,
   "metadata": {
    "collapsed": true
   },
   "outputs": [],
   "source": []
  }
 ],
 "metadata": {
  "kernelspec": {
   "display_name": "Python 3",
   "language": "python",
   "name": "python3"
  },
  "language_info": {
   "codemirror_mode": {
    "name": "ipython",
    "version": 3
   },
   "file_extension": ".py",
   "mimetype": "text/x-python",
   "name": "python",
   "nbconvert_exporter": "python",
   "pygments_lexer": "ipython3",
   "version": "3.6.1"
  }
 },
 "nbformat": 4,
 "nbformat_minor": 2
}
