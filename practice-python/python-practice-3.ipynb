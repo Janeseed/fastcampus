{
 "cells": [
  {
   "cell_type": "code",
   "execution_count": 1,
   "metadata": {
    "collapsed": true
   },
   "outputs": [],
   "source": [
    "# 멋진 Awe-sum 함수 만들기\n",
    "\n",
    "\n",
    "\n",
    "def awe_sum(a,b):\n",
    "    result = 0\n",
    "    result = a + b\n",
    "    return result"
   ]
  },
  {
   "cell_type": "code",
   "execution_count": 2,
   "metadata": {},
   "outputs": [
    {
     "data": {
      "text/plain": [
       "14"
      ]
     },
     "execution_count": 2,
     "metadata": {},
     "output_type": "execute_result"
    }
   ],
   "source": [
    "awe_sum(6,8)"
   ]
  },
  {
   "cell_type": "code",
   "execution_count": 4,
   "metadata": {},
   "outputs": [
    {
     "data": {
      "text/plain": [
       "'hello'"
      ]
     },
     "execution_count": 4,
     "metadata": {},
     "output_type": "execute_result"
    }
   ],
   "source": [
    "# input이 없는 함수 만들기\n",
    "\n",
    "\n",
    "\n",
    "def print_hello():\n",
    "    return \"hello\"\n",
    "print_hello()"
   ]
  },
  {
   "cell_type": "code",
   "execution_count": 6,
   "metadata": {},
   "outputs": [
    {
     "name": "stdout",
     "output_type": "stream",
     "text": [
      "This function is without return forJane.\n"
     ]
    }
   ],
   "source": [
    "# w/o: without, w/:with 으로 많이 씀\n",
    "## return 값 없이, 출력값이 남지 않고 그냥 print라는 실행문을 실행시킨것! 출력값이 저장되지 않음\n",
    "\n",
    "\n",
    "def func_wo_return(a):\n",
    "    print(\"This function is without return for\" + str(a) + \".\" )\n",
    "\n",
    "    \n",
    "func_wo_return(\"Jane\")\n",
    "    "
   ]
  },
  {
   "cell_type": "code",
   "execution_count": 9,
   "metadata": {},
   "outputs": [
    {
     "data": {
      "text/plain": [
       "(12, 112)"
      ]
     },
     "execution_count": 9,
     "metadata": {},
     "output_type": "execute_result"
    }
   ],
   "source": [
    "# return이 여러개 일 수 있음.\n",
    "\n",
    "\n",
    "def mul_return(a):\n",
    "    b = 0\n",
    "    b = a + 100\n",
    "    return a, b\n",
    "\n",
    "\n",
    "mul_return(12)\n",
    "\n",
    "## 나올 때 튜플의 형태로 나오게 됨."
   ]
  },
  {
   "cell_type": "code",
   "execution_count": 11,
   "metadata": {},
   "outputs": [
    {
     "name": "stdout",
     "output_type": "stream",
     "text": [
      "invalid id: admin\n"
     ]
    }
   ],
   "source": [
    "## admin 이라는 아이디를 못 쓰게 하고 싶을때\n",
    "\n",
    "\n",
    "def id_check(id):\n",
    "    if id == \"admin\":\n",
    "        print(\"invalid id: admin\")\n",
    "        return  ##while문에서 break를 사용했던 것처럼 함수에서 return을 사용하면 원하는 시점에 멈출 수 있게 해줌\n",
    "    print(\"valid id: \", id)\n",
    "\n",
    "id_check(\"admin\")"
   ]
  },
  {
   "cell_type": "code",
   "execution_count": 12,
   "metadata": {
    "collapsed": true
   },
   "outputs": [],
   "source": [
    "## 함수의 초기값 정해주기\n",
    "# 사용자가 딴 짓을 할 가능성을 배제시키기 위해 초기값을 설정해준다\n",
    "\n",
    "\n",
    "def say_hello(name=\"Fool\", nick=True):\n",
    "    print(\"Hi, \", name)\n",
    "    if nick == True:\n",
    "        print(\"You are foool\")\n",
    "    else: print(\"Oh, but you are not a fool\")"
   ]
  },
  {
   "cell_type": "code",
   "execution_count": 16,
   "metadata": {},
   "outputs": [
    {
     "name": "stdout",
     "output_type": "stream",
     "text": [
      "Hi,  Janeseed\n",
      "Oh, but you are not a fool\n"
     ]
    }
   ],
   "source": [
    "say_hello(name=\"Janeseed\", nick = 0)"
   ]
  },
  {
   "cell_type": "code",
   "execution_count": 18,
   "metadata": {},
   "outputs": [
    {
     "data": {
      "text/plain": [
       "55"
      ]
     },
     "execution_count": 18,
     "metadata": {},
     "output_type": "execute_result"
    }
   ],
   "source": [
    "##arguements 사용하기: 몇 개인지 모를 여러 개의 값이 들어갈거다 라고 선언 해주는 것.\n",
    "\n",
    "\n",
    "def mul_sum(*nums):\n",
    "    result = 0\n",
    "    for num in nums:\n",
    "        result = result + num\n",
    "    return result\n",
    "\n",
    "mul_sum(1,2,3,4,5,6,7,8,9,10)"
   ]
  },
  {
   "cell_type": "code",
   "execution_count": 20,
   "metadata": {},
   "outputs": [
    {
     "name": "stdout",
     "output_type": "stream",
     "text": [
      "{'a': 10, 'b': 'ggooogle', 'c': 'fool'}\n"
     ]
    }
   ],
   "source": [
    "## keyword arguments\n",
    "\n",
    "\n",
    "def show_kwargs(**kwargs):\n",
    "    print(str(kwargs))\n",
    "\n",
    "    \n",
    "show_kwargs(a=10, b=\"ggooogle\", c=\"fool\") ##입력하는 key는 문자열로만 들어가야 함. ex) 10 =\"google\" 이런식으로 하면 에러가 남."
   ]
  },
  {
   "cell_type": "code",
   "execution_count": 25,
   "metadata": {},
   "outputs": [
    {
     "data": {
      "text/plain": [
       "'https://www.naver.com:8888?&ie=utf8&query=덩케르크'"
      ]
     },
     "execution_count": 25,
     "metadata": {},
     "output_type": "execute_result"
    }
   ],
   "source": [
    "## 검색창에 검색을 할 때 자동적으로 url을 만들어주는 함수\n",
    "\n",
    "\n",
    "\n",
    "def kwargs_url(server, port, **query):\n",
    "    url = \"https://\" + server + \":\" + port + \"?\" # 도메인과 포트를 구분 지을때 \":\"을 사용함.\n",
    "    for key in query.keys():\n",
    "        url = url + \"&\" + key + \"=\" + query[key] \n",
    "    return url\n",
    "\n",
    "\n",
    "kwargs_url(\"www.naver.com\", \"8888\", ie = \"utf8\", query = \"덩케르크\")"
   ]
  },
  {
   "cell_type": "code",
   "execution_count": 29,
   "metadata": {},
   "outputs": [
    {
     "data": {
      "text/plain": [
       "'helloworld'"
      ]
     },
     "execution_count": 29,
     "metadata": {},
     "output_type": "execute_result"
    }
   ],
   "source": [
    "\n",
    "a= \"hello\"\n",
    "def glob_test(a):\n",
    "    a = a + \"world\"\n",
    "    return a\n",
    "\n",
    "glob_test(a)"
   ]
  },
  {
   "cell_type": "code",
   "execution_count": 30,
   "metadata": {},
   "outputs": [
    {
     "data": {
      "text/plain": [
       "'helloworld'"
      ]
     },
     "execution_count": 30,
     "metadata": {},
     "output_type": "execute_result"
    }
   ],
   "source": [
    "a = \"hello\"\n",
    "def glob_test(x):\n",
    "    x = x + \"world\"\n",
    "    return x\n",
    "\n",
    "glob_test(a)"
   ]
  },
  {
   "cell_type": "code",
   "execution_count": null,
   "metadata": {
    "collapsed": true
   },
   "outputs": [],
   "source": [
    "a = \"hello\"\n",
    "def glob_test(a):\n",
    "    "
   ]
  }
 ],
 "metadata": {
  "kernelspec": {
   "display_name": "Python 3",
   "language": "python",
   "name": "python3"
  },
  "language_info": {
   "codemirror_mode": {
    "name": "ipython",
    "version": 3
   },
   "file_extension": ".py",
   "mimetype": "text/x-python",
   "name": "python",
   "nbconvert_exporter": "python",
   "pygments_lexer": "ipython3",
   "version": "3.6.1"
  }
 },
 "nbformat": 4,
 "nbformat_minor": 2
}
