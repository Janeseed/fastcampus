{
 "cells": [
  {
   "cell_type": "code",
   "execution_count": null,
   "metadata": {
    "collapsed": true
   },
   "outputs": [],
   "source": [
    "import math"
   ]
  },
  {
   "cell_type": "code",
   "execution_count": null,
   "metadata": {
    "collapsed": true
   },
   "outputs": [],
   "source": [
    "#type casting\n",
    "float(3)"
   ]
  },
  {
   "cell_type": "code",
   "execution_count": null,
   "metadata": {
    "collapsed": true
   },
   "outputs": [],
   "source": [
    "str(1)"
   ]
  },
  {
   "cell_type": "code",
   "execution_count": null,
   "metadata": {
    "collapsed": true
   },
   "outputs": [],
   "source": [
    "int(\"12\")\n",
    "# 사용자한테 입력을 받아서 사용할때 문자형을 숫자형으로 바꿔주는 경우 많이 사용함."
   ]
  },
  {
   "cell_type": "code",
   "execution_count": null,
   "metadata": {
    "collapsed": true
   },
   "outputs": [],
   "source": [
    "int(3.7)"
   ]
  },
  {
   "cell_type": "code",
   "execution_count": null,
   "metadata": {
    "collapsed": true
   },
   "outputs": [],
   "source": [
    "str(100)"
   ]
  },
  {
   "cell_type": "code",
   "execution_count": null,
   "metadata": {
    "collapsed": true
   },
   "outputs": [],
   "source": [
    "#user input test\n",
    "name = input(\"What is your name? \") # 질문을 하고 나서 스페이스로 공간을 주어야 질문과 답변이 잘 구분됨.\n",
    "print(\"Hi,\", name, \". Nice to meet you\")"
   ]
  },
  {
   "cell_type": "code",
   "execution_count": null,
   "metadata": {
    "collapsed": true
   },
   "outputs": [],
   "source": [
    "name2 = eval(input(\"What's your name? \"))\n",
    "print(\"Hi, \", name2, \". Nice to meet you\")\n",
    "## eval의 합수는 자료형을 인식하기 때문에 사용자가 string을 입력할 때 \"string\"이런식으로 입력을 해줘야 인식 가능. 그냥 입력하면 변수로 인식함"
   ]
  },
  {
   "cell_type": "code",
   "execution_count": null,
   "metadata": {
    "collapsed": true
   },
   "outputs": [],
   "source": [
    "age = eval(input(\"How old are you? \"))\n",
    "type(age)"
   ]
  },
  {
   "cell_type": "code",
   "execution_count": null,
   "metadata": {
    "collapsed": true
   },
   "outputs": [],
   "source": [
    "#String Formatting test\n",
    "print(\"Hi, my name is %s, and I'm %s. \" % (\"pen\", \"beautiful\"))"
   ]
  },
  {
   "cell_type": "code",
   "execution_count": null,
   "metadata": {
    "collapsed": true
   },
   "outputs": [],
   "source": [
    "a = \"Fancy\"\n",
    "b = \"Fabulous\"\n",
    "c = \"Shine\"\n",
    "print(\"Jane is %9s, Sohyeon is %s 100%%\" % (a, b))\n",
    "print(\"Jane is %9s, Sohyeon is %s\" % (b, c))\n",
    "# 이렇게 구조적으로 보여줘야 할 때는 formatting을 하는 것이 좋음. 밑에처럼 좌로 정렬을 해줄때"
   ]
  },
  {
   "cell_type": "code",
   "execution_count": null,
   "metadata": {
    "collapsed": true
   },
   "outputs": [],
   "source": [
    "#string test\n",
    "some_string = \"python\" #파이썬에선 최대한 구체적으로 변수 이름 지정\n",
    "len(some_string)"
   ]
  },
  {
   "cell_type": "code",
   "execution_count": null,
   "metadata": {
    "collapsed": true
   },
   "outputs": [],
   "source": [
    "some_string[3:5] #5를 만족하면 바로 나와버리기 때문에 마지막 n은 출력되지 않음."
   ]
  },
  {
   "cell_type": "code",
   "execution_count": null,
   "metadata": {
    "collapsed": true
   },
   "outputs": [],
   "source": [
    "some_string[1:5:2] #마지막의 2의 의미는 2칸씩 띄워라 이런 의미"
   ]
  },
  {
   "cell_type": "code",
   "execution_count": null,
   "metadata": {
    "collapsed": true
   },
   "outputs": [],
   "source": [
    "some_string[::]\n",
    "some_string[::] == some_string[0:len(some_string):1]"
   ]
  },
  {
   "cell_type": "code",
   "execution_count": null,
   "metadata": {
    "collapsed": true
   },
   "outputs": [],
   "source": [
    "some_string[::-1] # -1이 마지막에 있으니까 -1칸씩 진행해라니까 거꾸로 읽게 됨"
   ]
  },
  {
   "cell_type": "code",
   "execution_count": null,
   "metadata": {
    "collapsed": true
   },
   "outputs": [],
   "source": [
    "some_string[::-2]"
   ]
  },
  {
   "cell_type": "code",
   "execution_count": null,
   "metadata": {
    "collapsed": true
   },
   "outputs": [],
   "source": [
    "some_string[1:5+1:2] #파이썬에서는 range를 이렇게 구체적으로 명시한다."
   ]
  },
  {
   "cell_type": "code",
   "execution_count": null,
   "metadata": {
    "collapsed": true
   },
   "outputs": [],
   "source": [
    "some_string[0] = \"c\" #list에서는 변경이 가능하나 str자체에서 p를 c로 바꿀 수는 없음."
   ]
  },
  {
   "cell_type": "code",
   "execution_count": null,
   "metadata": {
    "collapsed": true
   },
   "outputs": [],
   "source": [
    "some_string = \"c\" + some_string[1:] #바꾸고 싶으면 이런식으로 바꾸거나 list에 넣고 바꾸고 다시 str화 하면 됨(근데 이건 귀찮을 듯)"
   ]
  },
  {
   "cell_type": "code",
   "execution_count": null,
   "metadata": {
    "collapsed": true
   },
   "outputs": [],
   "source": [
    "some_string[0:]"
   ]
  },
  {
   "cell_type": "code",
   "execution_count": null,
   "metadata": {
    "collapsed": true
   },
   "outputs": [],
   "source": [
    "#count method test\n",
    "other_string = \"Python programming is really popping and fun!!\"\n",
    "other_string.count('p') #대소문자를 구별해서 counting함. 대문자까지 세고 싶으면 소문자로 다 치환하는 함수를 사용해야함."
   ]
  },
  {
   "cell_type": "code",
   "execution_count": null,
   "metadata": {
    "collapsed": true
   },
   "outputs": [],
   "source": [
    "#find method test\n",
    "other_string.find('r') #가장 앞에 있는 r을 찾으면 함수를 끝내버림. 하나만 찾으면 끝냄. 위치를 알려줌"
   ]
  },
  {
   "cell_type": "code",
   "execution_count": null,
   "metadata": {
    "collapsed": true
   },
   "outputs": [],
   "source": [
    "#join method test\n",
    "comma =\"%\"\n",
    "commaed = comma.join(\"python\")\n",
    "commaed #string 사이사이에 특정 string을 섞어줌"
   ]
  },
  {
   "cell_type": "code",
   "execution_count": null,
   "metadata": {
    "collapsed": true
   },
   "outputs": [],
   "source": [
    "# split method test\n",
    "commaed.split(\"%\") #특정 str을 기준으로 commaed의 string을 자름. 그리고 리스트에 넣어줌"
   ]
  },
  {
   "cell_type": "code",
   "execution_count": null,
   "metadata": {
    "collapsed": true
   },
   "outputs": [],
   "source": [
    "#split method example\n",
    "personal_info = \"홍길동 010-1234-5666 서울시\"\n",
    "personal_info.split(' ')\n"
   ]
  },
  {
   "cell_type": "code",
   "execution_count": null,
   "metadata": {
    "collapsed": true
   },
   "outputs": [],
   "source": [
    "splited_info = personal_info.split(\" \")\n",
    "phone_no=splited_info[1].split(\"-\")\n",
    "phone_no"
   ]
  },
  {
   "cell_type": "code",
   "execution_count": null,
   "metadata": {
    "collapsed": true
   },
   "outputs": [],
   "source": [
    "#문자열을 바꿔주는 함수. 그러나 이게 other_string자체를 바꿔주는건 아님 다른 변수에 넣어줘야함.\n",
    "other_string.replace('Python', 'golang')"
   ]
  },
  {
   "cell_type": "code",
   "execution_count": null,
   "metadata": {
    "collapsed": true
   },
   "outputs": [],
   "source": [
    "#list practice\n",
    "##append method\n",
    "lang = []\n",
    "lang.append('Python')\n",
    "lang.append('golang')\n",
    "lang.append('java')\n",
    "lang"
   ]
  },
  {
   "cell_type": "code",
   "execution_count": null,
   "metadata": {
    "collapsed": true
   },
   "outputs": [],
   "source": [
    "#insert method\n",
    "##insert는 특정 자리에 넣을 수 있음\n",
    "lang.insert(1, \"c\")\n",
    "lang"
   ]
  },
  {
   "cell_type": "code",
   "execution_count": null,
   "metadata": {
    "collapsed": true
   },
   "outputs": [],
   "source": [
    "#remove method\n",
    "lang.remove(\"java\")\n",
    "lang"
   ]
  },
  {
   "cell_type": "code",
   "execution_count": null,
   "metadata": {
    "collapsed": true
   },
   "outputs": [],
   "source": [
    "#pop method\n",
    "##pop은 떼어내서 다른 곳에 넣을 수 있음.\n",
    "golang = lang.pop(2)\n",
    "print(golang)\n",
    "print(lang)"
   ]
  },
  {
   "cell_type": "code",
   "execution_count": null,
   "metadata": {
    "collapsed": true
   },
   "outputs": [],
   "source": [
    "#sort method\n",
    "## 순서대로 정렬할 수 있음\n",
    "numbers = [1,5,2,3,4,5,43,54,6,7,3,8,323,6,745]\n",
    "numbers.sort()\n",
    "numbers"
   ]
  },
  {
   "cell_type": "code",
   "execution_count": null,
   "metadata": {
    "collapsed": true
   },
   "outputs": [],
   "source": [
    "#reverse method\n",
    "## alphabet[::-1] 과 같음. 그러나 이건 호출 하는거고 reverse method를 사용하면 원본 list를 바꾸는것!!\n",
    "### another alphabet = alphabet[::-1] : 원본 손상 X\n",
    "alphabet = ['a','b','d','g','q','r','s','i']\n",
    "alphabet.sort()\n",
    "alphabet.reverse()\n",
    "alphabet"
   ]
  },
  {
   "cell_type": "code",
   "execution_count": null,
   "metadata": {
    "collapsed": true
   },
   "outputs": [],
   "source": [
    "#index method\n",
    "##특정 값의 위치 가져오기\n",
    "numbers.index(54)"
   ]
  },
  {
   "cell_type": "code",
   "execution_count": null,
   "metadata": {
    "collapsed": true
   },
   "outputs": [],
   "source": [
    "#list끼리 더하는 것이 가능\n",
    "list_ = [[3,4,4],2,3,4] #리스트 안에 리스트를 넣을 수 있음\n",
    "list_ = list_ + [5,6]\n",
    "list_"
   ]
  },
  {
   "cell_type": "code",
   "execution_count": null,
   "metadata": {
    "collapsed": true
   },
   "outputs": [],
   "source": [
    "#extend method로도 확장 가능\n",
    "list_.extend([\"a\",\"b\"])\n",
    "list_"
   ]
  },
  {
   "cell_type": "code",
   "execution_count": null,
   "metadata": {
    "collapsed": true
   },
   "outputs": [],
   "source": [
    "# TUPLE\n",
    "tuple1 = (1,2,3,4)\n",
    "del tuple1[1] #tuple은 item(요소) 삭제를 지원하지 않음."
   ]
  },
  {
   "cell_type": "code",
   "execution_count": null,
   "metadata": {
    "collapsed": true
   },
   "outputs": [],
   "source": [
    "tuple1[1] = 5"
   ]
  },
  {
   "cell_type": "code",
   "execution_count": null,
   "metadata": {
    "collapsed": true
   },
   "outputs": [],
   "source": [
    "tuple2 = (4,5,6,7)\n",
    "print(tuple1 + tuple2)\n",
    "print(tuple1 * 3)\n",
    "# tuple을 반복하거나 더하는 것은 가능\n"
   ]
  },
  {
   "cell_type": "code",
   "execution_count": null,
   "metadata": {
    "collapsed": true
   },
   "outputs": [],
   "source": [
    "#변수끼리 바꾸기 위해서는 다른 변수를 지정해서 바꿔 줘야 함\n",
    "#예를 들어서 x와 y를 바꾸기 위해서는\n",
    "# temp = x ## 이렇게 temp라는 새로운 변수를 지정해워야 함\n",
    "# x = y\n",
    "# y = temp\n",
    "x = 1\n",
    "y = 39\n",
    "temp = x\n",
    "print(x, y, temp)\n",
    "x = y\n",
    "print(x, y, temp)\n",
    "y = temp\n",
    "print(x, y, temp)"
   ]
  },
  {
   "cell_type": "code",
   "execution_count": null,
   "metadata": {
    "collapsed": true
   },
   "outputs": [],
   "source": [
    "# tuple을 이용하면 위에 과정을 거치지 않고 바꿀 수 있음\n",
    "print(x, y)\n",
    "(x, y) = (y, x)\n",
    "print(x, y)\n",
    "# 함수에서 하나 이상의 값을 반환할때 사용"
   ]
  },
  {
   "cell_type": "code",
   "execution_count": null,
   "metadata": {
    "collapsed": true
   },
   "outputs": [],
   "source": [
    "# 조건문, Conditions\n",
    "age = 21\n",
    "location = \"busan\"\n",
    "if age <= 19 and location == \"seoul\":\n",
    "    print(\"You are teenager and You lived in Seoul.\")\n",
    "elif age>19:\n",
    "    print(\"You are adults\")\n",
    "elif location != \"seoul\":\n",
    "    print(\"Sorry, you are not citizen of Seoul\")\n",
    "else: print(\"error\")\n",
    "# 제일 상위의 조건문이 가장 빈도가 높아야 함. 가장 상위에서 가장 먼저 조건에 걸리기 때문"
   ]
  },
  {
   "cell_type": "code",
   "execution_count": 1,
   "metadata": {},
   "outputs": [
    {
     "data": {
      "text/plain": [
       "5"
      ]
     },
     "execution_count": 1,
     "metadata": {},
     "output_type": "execute_result"
    }
   ],
   "source": [
    "# numguess 게임 만들어 보기\n",
    "import random\n",
    "\n",
    "\n",
    "answer = random.randint(1,99+1) # 1부터 99까지 숫자 중에 정수 하나를 랜덤하게 뽑아라\n",
    "answer"
   ]
  },
  {
   "cell_type": "code",
   "execution_count": 3,
   "metadata": {},
   "outputs": [
    {
     "name": "stdout",
     "output_type": "stream",
     "text": [
      "Hi, What's your name?aldfj\n",
      "Nice to meet you, aldfjGuess what's the number! It is the number from 1 to 99: 5\n",
      "You're right! It's 5\n"
     ]
    }
   ],
   "source": [
    "username = input(\"Hi, What's your name?\")\n",
    "guess = eval(input(\"Nice to meet you, \" + username + \"Guess what's the number! It is the number from 1 to 99: \"))\n",
    "\n",
    "if answer == guess: ##answer가 왼쪽에 있는 것이 좋음.\n",
    "    print(\"You're right! It's \" + str(answer))\n",
    "else:\n",
    "    print(\"That's wrong answer.\")"
   ]
  },
  {
   "cell_type": "code",
   "execution_count": 4,
   "metadata": {},
   "outputs": [
    {
     "name": "stdout",
     "output_type": "stream",
     "text": [
      "golang, java, c, python\n"
     ]
    }
   ],
   "source": [
    "# 반복문\n",
    "for i in [\"golang, java, c, python\"]:\n",
    "    print(i)"
   ]
  },
  {
   "cell_type": "code",
   "execution_count": 15,
   "metadata": {},
   "outputs": [
    {
     "ename": "AttributeError",
     "evalue": "type object 'range' has no attribute 'reverse'",
     "output_type": "error",
     "traceback": [
      "\u001b[1;31m---------------------------------------------------------------------------\u001b[0m",
      "\u001b[1;31mAttributeError\u001b[0m                            Traceback (most recent call last)",
      "\u001b[1;32m<ipython-input-15-40fc63c3d6c4>\u001b[0m in \u001b[0;36m<module>\u001b[1;34m()\u001b[0m\n\u001b[0;32m      1\u001b[0m \u001b[0msum\u001b[0m \u001b[1;33m=\u001b[0m \u001b[1;36m0\u001b[0m\u001b[1;33m\u001b[0m\u001b[0m\n\u001b[1;32m----> 2\u001b[1;33m \u001b[1;32mfor\u001b[0m \u001b[0mi\u001b[0m \u001b[1;32min\u001b[0m \u001b[0mrange\u001b[0m\u001b[1;33m.\u001b[0m\u001b[0mreverse\u001b[0m\u001b[1;33m(\u001b[0m\u001b[1;36m1\u001b[0m\u001b[1;33m,\u001b[0m\u001b[1;36m10\u001b[0m\u001b[1;33m+\u001b[0m\u001b[1;36m1\u001b[0m\u001b[1;33m)\u001b[0m\u001b[1;33m:\u001b[0m\u001b[1;33m\u001b[0m\u001b[0m\n\u001b[0m\u001b[0;32m      3\u001b[0m     \u001b[0msum\u001b[0m \u001b[1;33m=\u001b[0m \u001b[0msum\u001b[0m \u001b[1;33m+\u001b[0m \u001b[0mi\u001b[0m \u001b[1;31m# sum += i랑 같은 내용\u001b[0m\u001b[1;33m\u001b[0m\u001b[0m\n\u001b[0;32m      4\u001b[0m     \u001b[0mprint\u001b[0m\u001b[1;33m(\u001b[0m\u001b[0msum\u001b[0m\u001b[1;33m)\u001b[0m \u001b[1;31m## 일반적으로 이런 경우는 debugging 할 때 많이 사용\u001b[0m\u001b[1;33m\u001b[0m\u001b[0m\n\u001b[0;32m      5\u001b[0m \u001b[0mprint\u001b[0m\u001b[1;33m(\u001b[0m\u001b[0msum\u001b[0m\u001b[1;33m)\u001b[0m \u001b[1;31m#print 가 for문 밖에 있을때는 마지막 결과값만 출력\u001b[0m\u001b[1;33m\u001b[0m\u001b[0m\n",
      "\u001b[1;31mAttributeError\u001b[0m: type object 'range' has no attribute 'reverse'"
     ]
    }
   ],
   "source": [
    "sum = 0\n",
    "for i in range.reverse(1,10+1):\n",
    "    sum = sum + i # sum += i랑 같은 내용\n",
    "    print(sum) ## 일반적으로 이런 경우는 debugging 할 때 많이 사용\n",
    "print(sum) #print 가 for문 밖에 있을때는 마지막 결과값만 출력\n"
   ]
  },
  {
   "cell_type": "code",
   "execution_count": 17,
   "metadata": {
    "collapsed": true
   },
   "outputs": [],
   "source": [
    "while 0:\n",
    "    print(\"Hello world\")"
   ]
  },
  {
   "cell_type": "code",
   "execution_count": 23,
   "metadata": {},
   "outputs": [
    {
     "name": "stdout",
     "output_type": "stream",
     "text": [
      "What is your name? Jane\n",
      "Hello, Jane. Do you want to stop? then saying 'break'\n",
      "What is your name? break\n",
      "Hello, break. Do you want to stop? then saying 'break'\n"
     ]
    }
   ],
   "source": [
    "name = \"\"\n",
    "while name != \"break\":\n",
    "    name = input(\"What is your name? \")\n",
    "    print(\"Hello, \"+ name +\". Do you want to stop? then saying 'break'\")\n"
   ]
  },
  {
   "cell_type": "code",
   "execution_count": 26,
   "metadata": {},
   "outputs": [
    {
     "name": "stdout",
     "output_type": "stream",
     "text": [
      "1\n",
      "2\n",
      "fizz\n",
      "4\n",
      "buzz\n",
      "fizz\n",
      "7\n",
      "8\n",
      "fizz\n",
      "buzz\n",
      "11\n",
      "fizz\n",
      "13\n",
      "14\n",
      "fizzbuzz\n",
      "16\n",
      "17\n",
      "fizz\n",
      "19\n",
      "buzz\n",
      "fizz\n",
      "22\n",
      "23\n",
      "fizz\n",
      "buzz\n",
      "26\n",
      "fizz\n",
      "28\n",
      "29\n",
      "fizzbuzz\n",
      "31\n",
      "32\n",
      "fizz\n",
      "34\n",
      "buzz\n",
      "fizz\n",
      "37\n",
      "38\n",
      "fizz\n",
      "buzz\n",
      "41\n",
      "fizz\n",
      "43\n",
      "44\n",
      "fizzbuzz\n",
      "46\n",
      "47\n",
      "fizz\n",
      "49\n",
      "buzz\n",
      "fizz\n",
      "52\n",
      "53\n",
      "fizz\n",
      "buzz\n",
      "56\n",
      "fizz\n",
      "58\n",
      "59\n",
      "fizzbuzz\n",
      "61\n",
      "62\n",
      "fizz\n",
      "64\n",
      "buzz\n",
      "fizz\n",
      "67\n",
      "68\n",
      "fizz\n",
      "buzz\n",
      "71\n",
      "fizz\n",
      "73\n",
      "74\n",
      "fizzbuzz\n",
      "76\n",
      "77\n",
      "fizz\n",
      "79\n",
      "buzz\n",
      "fizz\n",
      "82\n",
      "83\n",
      "fizz\n",
      "buzz\n",
      "86\n",
      "fizz\n",
      "88\n",
      "89\n",
      "fizzbuzz\n",
      "91\n",
      "92\n",
      "fizz\n",
      "94\n",
      "buzz\n",
      "fizz\n",
      "97\n",
      "98\n",
      "fizz\n",
      "buzz\n"
     ]
    }
   ],
   "source": [
    "for i in range(1, 100+1):\n",
    "    if i%3 == 0 and i%5 == 0:\n",
    "        print(\"fizzbuzz\")\n",
    "    elif i%3 == 0:\n",
    "        print(\"fizz\")\n",
    "    elif i%5 == 0:\n",
    "        print(\"buzz\")\n",
    "    else: print(i)\n",
    "## 겹치는 조건이 있으니까 우선순위(if에 뭘 넣을지를/3의 배수가 더 많으니까 3의 배수를 먼저 확인하고 이렇게)를 잘 봐야함.\n",
    "    "
   ]
  },
  {
   "cell_type": "code",
   "execution_count": 33,
   "metadata": {},
   "outputs": [
    {
     "name": "stdout",
     "output_type": "stream",
     "text": [
      "0.333\n",
      "0.667\n"
     ]
    }
   ],
   "source": [
    "# 몬티홀의 확률 구하기\n",
    "import random\n",
    "\n",
    "stay = 0\n",
    "switch = 0\n",
    "\n",
    "for i in range(1000):\n",
    "    doors = [1,0,0]\n",
    "    random.shuffle(doors)\n",
    "\n",
    "    choice = random.randrange(3) # randrange는 0,1,2 중에 하나를 무작위로 뽑는 것\n",
    "    \n",
    "    if doors.index(1) == choice:\n",
    "        stay = stay + 1\n",
    "    else:\n",
    "        switch = switch + 1\n",
    "print(stay/1000)\n",
    "print(switch/1000)\n"
   ]
  },
  {
   "cell_type": "code",
   "execution_count": null,
   "metadata": {
    "collapsed": true
   },
   "outputs": [],
   "source": []
  }
 ],
 "metadata": {
  "kernelspec": {
   "display_name": "Python 3",
   "language": "python",
   "name": "python3"
  },
  "language_info": {
   "codemirror_mode": {
    "name": "ipython",
    "version": 3
   },
   "file_extension": ".py",
   "mimetype": "text/x-python",
   "name": "python",
   "nbconvert_exporter": "python",
   "pygments_lexer": "ipython3",
   "version": "3.6.1"
  }
 },
 "nbformat": 4,
 "nbformat_minor": 2
}
